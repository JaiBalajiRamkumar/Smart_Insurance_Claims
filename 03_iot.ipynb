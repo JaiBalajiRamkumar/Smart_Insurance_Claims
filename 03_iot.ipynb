{
 "cells": [
  {
   "cell_type": "code",
   "execution_count": 0,
   "metadata": {
    "application/vnd.databricks.v1+cell": {
     "cellMetadata": {
      "byteLimit": 2048000,
      "rowLimit": 10000
     },
     "inputWidgets": {},
     "nuid": "761527e0-1e79-484a-b48e-04928e41692b",
     "showTitle": false,
     "tableResultSettingsMap": {},
     "title": ""
    }
   },
   "outputs": [],
   "source": [
    "%run ./setup/initialize"
   ]
  },
  {
   "cell_type": "code",
   "execution_count": 0,
   "metadata": {
    "application/vnd.databricks.v1+cell": {
     "cellMetadata": {
      "byteLimit": 2048000,
      "rowLimit": 10000
     },
     "inputWidgets": {},
     "nuid": "f56699f4-d756-4d8b-8c12-581e39f9af58",
     "showTitle": false,
     "tableResultSettingsMap": {},
     "title": ""
    }
   },
   "outputs": [],
   "source": [
    "# The path to your data in the Unity Catalog Volume\n",
    "telematics_path = getParam('Telematics_path')\n",
    "\n",
    "# --- THIS IS THE FIX ---\n",
    "# The source data is a Delta table, so we must read it using format(\"delta\").\n",
    "print(f\"Reading Delta table from: {telematics_path}\")\n",
    "telematics_df = spark.read.format(\"delta\").load(telematics_path)\n",
    "\n",
    "print(\"Successfully loaded telematics data into a DataFrame.\")\n",
    "display(telematics_df)\n",
    "\n",
    "\n",
    "# Now that the data is read correctly, we can write it to a new managed table.\n",
    "final_table_name = \"silver_telematics\"\n",
    "\n",
    "# Write the DataFrame to a new managed Delta table\n",
    "telematics_df.write.mode(\"overwrite\").saveAsTable(final_table_name)\n",
    "\n",
    "print(f\"Successfully created the managed table '{final_table_name}'.\")"
   ]
  }
 ],
 "metadata": {
  "application/vnd.databricks.v1+notebook": {
   "computePreferences": null,
   "dashboards": [],
   "environmentMetadata": {
    "base_environment": "",
    "environment_version": "3"
   },
   "inputWidgetPreferences": null,
   "language": "python",
   "notebookMetadata": {
    "mostRecentlyExecutedCommandWithImplicitDF": {
     "commandId": 6835109613928354,
     "dataframes": [
      "_sqldf"
     ]
    },
    "pythonIndentUnit": 4
   },
   "notebookName": "03_iot",
   "widgets": {}
  },
  "language_info": {
   "name": "python"
  }
 },
 "nbformat": 4,
 "nbformat_minor": 0
}
